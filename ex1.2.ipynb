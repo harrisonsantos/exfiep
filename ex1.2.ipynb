{
 "cells": [
  {
   "cell_type": "markdown",
   "metadata": {
    "slideshow": {
     "slide_type": "slide"
    }
   },
   "source": [
    "![1](https://advancedinstitute.ai/wp-content/uploads/2019/04/redesneurais-1170x500.png)"
   ]
  },
  {
   "cell_type": "markdown",
   "metadata": {
    "slideshow": {
     "slide_type": "fragment"
    }
   },
   "source": [
    "# Redes Neurais"
   ]
  },
  {
   "cell_type": "markdown",
   "metadata": {
    "slideshow": {
     "slide_type": "subslide"
    }
   },
   "source": [
    "Objetivo:\n",
    "\n",
    "Conhecer a estrutura de uma rede neural e como se dá o processo de treinamento, começando por perceptrons, chegando a perceptrons de múltiplas camadas, discutindo aspectos relacionados a deep learning. Esse curso cobre não somente os aspectos teóricos envolvidos no projeto de redes neurais, mas também aspectos práticos da implementação desses."
   ]
  },
  {
   "cell_type": "markdown",
   "metadata": {
    "slideshow": {
     "slide_type": "slide"
    }
   },
   "source": [
    "Cérebro e neurônios\n",
    "\n",
    "Redes Neurais Artificiais são técnicas computacionais que apresentam um modelo matemático inspirado na estrutura neural de organismos inteligentes e que adquirem conhecimento através da experiência. Uma grande rede neural artificial pode ter centenas ou milhares de unidades de processamento; já o cérebro de um mamífero pode ter muitos bilhões de neurônios.\n",
    "\n",
    "O sistema nervoso é formado por um conjunto extremamente complexo de células, os neurônios. Eles têm um papel essencial na determinação do funcionamento e comportamento do corpo humano e do raciocínio. Os neurônios são formados pelos dendritos, que são um conjunto de terminais de entrada, pelo corpo central, e pelos axônios que são longos terminais de saída.\n"
   ]
  },
  {
   "cell_type": "markdown",
   "metadata": {
    "slideshow": {
     "slide_type": "slide"
    }
   },
   "source": [
    "Perceptrons\n",
    "* Perceptron de único Neurônio\n",
    "* Perceptron de uma única camada\n",
    "* Algoritmos de aprendizagem\n",
    "* O Problema do XOR\n",
    "\n",
    "![.](https://i2.wp.com/deeplearningbook.com.br/wp-content/uploads/2017/12/rede.png?w=540)"
   ]
  },
  {
   "attachments": {},
   "cell_type": "markdown",
   "metadata": {
    "slideshow": {
     "slide_type": "slide"
    }
   },
   "source": [
    "Perceptrons Multicamadas\n",
    "* Aproximação Universal\n",
    "* Algoritmo de Backpropagation\n",
    "* Funções de Ativação\n",
    "* Camadas de Saída e codificação\n",
    "* Projeto da Arquitetura da Rede Neural\n",
    "    * Inicialização de Pesos\n",
    "    * Otimização de parâmetros de aprendizagem\n",
    "    * Funções de otimização\n",
    "* Regularização\n"
   ]
  },
  {
   "cell_type": "markdown",
   "metadata": {
    "slideshow": {
     "slide_type": "subslide"
    }
   },
   "source": [
    "![2](https://miro.medium.com/max/1920/1*5K-1CSOB2mb5Jn2L8K3f9Q.gif)"
   ]
  },
  {
   "cell_type": "markdown",
   "metadata": {
    "slideshow": {
     "slide_type": "slide"
    }
   },
   "source": [
    "TensorFlow é uma biblioteca de código aberto para aprendizado de máquina aplicável a uma ampla variedade de tarefas. É um sistema para criação e treinamento de redes neurais para detectar e decifrar padrões e correlações, análogo à forma como humanos aprendem e raciocinam."
   ]
  },
  {
   "cell_type": "markdown",
   "metadata": {
    "slideshow": {
     "slide_type": "slide"
    }
   },
   "source": [
    "Keras é uma biblioteca de rede neural de código aberto escrita em Python. É capaz de rodar sobre TensorFlow, Microsoft Cognitive Toolkit, Theano ou PlaidML. Projetado para permitir experimentação rápida com redes neurais profundas, ele se concentra em ser fácil de usar, modular e extensível. "
   ]
  }
 ],
 "metadata": {
  "celltoolbar": "Slideshow",
  "kernelspec": {
   "display_name": "Python [conda env:p] *",
   "language": "python",
   "name": "conda-env-p-py"
  },
  "language_info": {
   "codemirror_mode": {
    "name": "ipython",
    "version": 3
   },
   "file_extension": ".py",
   "mimetype": "text/x-python",
   "name": "python",
   "nbconvert_exporter": "python",
   "pygments_lexer": "ipython3",
   "version": "3.7.4"
  }
 },
 "nbformat": 4,
 "nbformat_minor": 2
}
