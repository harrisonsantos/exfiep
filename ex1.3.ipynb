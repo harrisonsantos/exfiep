{
 "cells": [
  {
   "cell_type": "markdown",
   "metadata": {},
   "source": [
    "![aa](https://www.thesun.co.uk/wp-content/uploads/2017/01/nintchdbpict000297124102.jpg)"
   ]
  },
  {
   "cell_type": "markdown",
   "metadata": {},
   "source": [
    "<img src=\"https://www.thesun.co.uk/wp-content/uploads/2017/01/nintchdbpict000297124102.jpg\" alt=\"Kitten\"\n",
    "\ttitle=\"A cute kitten\" width=\"150\" height=\"100\" />"
   ]
  }
 ],
 "metadata": {
  "kernelspec": {
   "display_name": "Python [conda env:p] *",
   "language": "python",
   "name": "conda-env-p-py"
  },
  "language_info": {
   "codemirror_mode": {
    "name": "ipython",
    "version": 3
   },
   "file_extension": ".py",
   "mimetype": "text/x-python",
   "name": "python",
   "nbconvert_exporter": "python",
   "pygments_lexer": "ipython3",
   "version": "3.7.4"
  }
 },
 "nbformat": 4,
 "nbformat_minor": 2
}
