{
 "cells": [
  {
   "cell_type": "markdown",
   "metadata": {},
   "source": [
    "# Image processing in Python"
   ]
  },
  {
   "cell_type": "markdown",
   "metadata": {},
   "source": [
    "<table style=\"display: inline-block;\"><tr><td><a href=https://forum.image.sc/tags/scikit-image /><img src='buttons/b1.png'></td></tr></table><table style=\"display: inline-block;\"><tr><td><a href=https://stackoverflow.com/questions/tagged/scikit-image /><img src='buttons/b2.png'></td></tr></table>"
   ]
  },
  {
   "cell_type": "markdown",
   "metadata": {},
   "source": [
    "* Website (including documentation): https://scikit-image.org/\n",
    "* Mailing list: https://mail.python.org/mailman/listinfo/scikit-image\n",
    "* Benchmarks: https://pandas.pydata.org/speed/scikit-image/"
   ]
  },
  {
   "cell_type": "markdown",
   "metadata": {},
   "source": [
    "## Installation from binaries"
   ]
  },
  {
   "cell_type": "markdown",
   "metadata": {},
   "source": [
    "* Debian/Ubuntu: `sudo apt-get install python-skimage`\n",
    "* OSX: `pip install scikit-image`\n",
    "* Anaconda: `conda install -c conda-forge scikit-image`\n",
    "* Windows: `Download Windows binaries`"
   ]
  },
  {
   "cell_type": "markdown",
   "metadata": {},
   "source": [
    "Also see [installing scikit-image.](file:///home/fialhocoelho/Downloads/scikit-image/INSTALL.rst)"
   ]
  },
  {
   "cell_type": "markdown",
   "metadata": {},
   "source": [
    "## Installation from source"
   ]
  },
  {
   "cell_type": "markdown",
   "metadata": {},
   "source": [
    "Install dependencies using:\n",
    "\n",
    "`pip install -r requirements.txt`\n",
    "\n",
    "Then, install scikit-image using:\n",
    "\n",
    "`$ pip install` .\n",
    "\n",
    "If you plan to develop the package, you may run it directly from source:\n",
    "\n",
    "`$ pip install -e `. # Do this once to add package to Python path\n",
    "\n",
    "Every time you modify Cython files, also run:\n",
    "\n",
    "`$ python setup.py build_ext -i` # Build binary extensions"
   ]
  },
  {
   "cell_type": "markdown",
   "metadata": {},
   "source": [
    "## License (Modified BSD)"
   ]
  },
  {
   "cell_type": "markdown",
   "metadata": {},
   "source": [
    "Copyright (C) 2011, the scikit-image team All rights reserved.\n",
    "\n",
    "Redistribution and use in source and binary forms, with or without modification, are permitted provided that\n",
    "the following conditions are met:\n",
    "1. Redistributions of source code must retain the above copyright notice, this list of conditions and the\n",
    "following disclaimer.\n",
    "1. Redistributions in binary form must reproduce the above copyright notice, this list of conditions and\n",
    "the following disclaimer in the documentation and/or other materials provided with the distribution.\n",
    "1. Neither the name of skimage nor the names of its contributors may be used to endorse or promote\n",
    "products derived from this software without specific prior written permission.\n",
    "\n",
    "THIS SOFTWARE IS PROVIDED BY THE AUTHOR ``AS IS'' AND ANY EXPRESS OR IMPLIED\n",
    "WARRANTIES, INCLUDING, BUT NOT LIMITED TO, THE IMPLIED WARRANTIES OF\n",
    "MERCHANTABILITY AND FITNESS FOR A PARTICULAR PURPOSE ARE DISCLAIMED. IN NO\n",
    "EVENT SHALL THE AUTHOR BE LIABLE FOR ANY DIRECT, INDIRECT, INCIDENTAL, SPECIAL,\n",
    "EXEMPLARY, OR CONSEQUENTIAL DAMAGES (INCLUDING, BUT NOT LIMITED TO,\n",
    "PROCUREMENT OF SUBSTITUTE GOODS OR SERVICES; LOSS OF USE, DATA, OR PROFITS; OR\n",
    "BUSINESS INTERRUPTION) HOWEVER CAUSED AND ON ANY THEORY OF LIABILITY,\n",
    "WHETHER IN CONTRACT, STRICT LIABILITY, OR TORT (INCLUDING NEGLIGENCE OR\n",
    "OTHERWISE) ARISING IN ANY WAY OUT OF THE USE OF THIS SOFTWARE, EVEN IF ADVISED\n",
    "OF THE POSSIBILITY OF SUCH DAMAGE"
   ]
  },
  {
   "cell_type": "markdown",
   "metadata": {},
   "source": [
    "## Citation"
   ]
  },
  {
   "cell_type": "markdown",
   "metadata": {},
   "source": [
    "If you find this project useful, please cite:\n",
    ">Stéfan van der Walt, Johannes L. Schönberger, Juan Nunez-Iglesias, François Boulogne, Joshua\n",
    "D. Warner, Neil Yager, Emmanuelle Gouillart, Tony Yu, and the scikit-image contributors.\n",
    "scikit-image: Image processing in Python. PeerJ 2:e453 (2014) https://doi.org/10.7717/peerj.453"
   ]
  }
 ],
 "metadata": {
  "kernelspec": {
   "display_name": "Python [conda env:p] *",
   "language": "python",
   "name": "conda-env-p-py"
  },
  "language_info": {
   "codemirror_mode": {
    "name": "ipython",
    "version": 3
   },
   "file_extension": ".py",
   "mimetype": "text/x-python",
   "name": "python",
   "nbconvert_exporter": "python",
   "pygments_lexer": "ipython3",
   "version": "3.7.4"
  }
 },
 "nbformat": 4,
 "nbformat_minor": 2
}
